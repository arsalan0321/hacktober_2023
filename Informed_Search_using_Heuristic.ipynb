{
 "cells": [
  {
   "cell_type": "markdown",
   "id": "4bedc82d",
   "metadata": {},
   "source": [
    "## Informed_Search_using_Heuristic"
   ]
  },
  {
   "cell_type": "markdown",
   "id": "383a3563",
   "metadata": {},
   "source": [
    "Here's a Python implementation of Informed Search using a heuristic function, specifically the A* (A-star) search algorithm"
   ]
  },
  {
   "cell_type": "code",
   "execution_count": 1,
   "id": "4e3b9b3f",
   "metadata": {},
   "outputs": [
    {
     "name": "stdout",
     "output_type": "stream",
     "text": [
      "A* Search: Path found: ['A', 'C', 'F', 'G']\n"
     ]
    }
   ],
   "source": [
    "import heapq\n",
    "\n",
    "def astar_search(graph, start, goal, heuristic):\n",
    "    open_list = [(0, start)]\n",
    "    came_from = {}\n",
    "    g_score = {node: float('inf') for node in graph}\n",
    "    g_score[start] = 0\n",
    "    f_score = {node: float('inf') for node in graph}\n",
    "    f_score[start] = heuristic[start]\n",
    "\n",
    "    while open_list:\n",
    "        _, current = heapq.heappop(open_list)\n",
    "\n",
    "        if current == goal:\n",
    "            path = reconstruct_path(came_from, current)\n",
    "            return path\n",
    "\n",
    "        for neighbor, cost in graph[current]:\n",
    "            tentative_g_score = g_score[current] + cost\n",
    "\n",
    "            if tentative_g_score < g_score[neighbor]:\n",
    "                came_from[neighbor] = current\n",
    "                g_score[neighbor] = tentative_g_score\n",
    "                f_score[neighbor] = g_score[neighbor] + heuristic[neighbor]\n",
    "                heapq.heappush(open_list, (f_score[neighbor], neighbor))\n",
    "\n",
    "    return None  # Return None if the goal is not reachable\n",
    "\n",
    "def reconstruct_path(came_from, current):\n",
    "    path = [current]\n",
    "    while current in came_from:\n",
    "        current = came_from[current]\n",
    "        path.insert(0, current)\n",
    "    return path\n",
    "\n",
    "# Define a sample graph as an adjacency list\n",
    "graph = {\n",
    "    'A': [('B', 1), ('C', 3)],\n",
    "    'B': [('D', 5), ('E', 7)],\n",
    "    'C': [('F', 2)],\n",
    "    'D': [('G', 4)],\n",
    "    'E': [('G', 6)],\n",
    "    'F': [('G', 3)],\n",
    "    'G': []\n",
    "}\n",
    "\n",
    "start_node = 'A'\n",
    "goal_node = 'G'\n",
    "\n",
    "# Define a heuristic function (for example, the straight-line distance to the goal)\n",
    "heuristic = {\n",
    "    'A': 7,\n",
    "    'B': 6,\n",
    "    'C': 2,\n",
    "    'D': 4,\n",
    "    'E': 3,\n",
    "    'F': 2,\n",
    "    'G': 0\n",
    "}\n",
    "\n",
    "path = astar_search(graph, start_node, goal_node, heuristic)\n",
    "if path is not None:\n",
    "    print(\"A* Search: Path found:\", path)\n",
    "else:\n",
    "    print(\"A* Search: Goal node not reachable.\")\n"
   ]
  },
  {
   "cell_type": "code",
   "execution_count": null,
   "id": "2f54bdd6",
   "metadata": {},
   "outputs": [],
   "source": []
  }
 ],
 "metadata": {
  "kernelspec": {
   "display_name": "Python 3 (ipykernel)",
   "language": "python",
   "name": "python3"
  },
  "language_info": {
   "codemirror_mode": {
    "name": "ipython",
    "version": 3
   },
   "file_extension": ".py",
   "mimetype": "text/x-python",
   "name": "python",
   "nbconvert_exporter": "python",
   "pygments_lexer": "ipython3",
   "version": "3.11.5"
  }
 },
 "nbformat": 4,
 "nbformat_minor": 5
}
